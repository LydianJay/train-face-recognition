{
 "cells": [
  {
   "cell_type": "code",
   "execution_count": 3,
   "id": "19ac7c72-f67f-4303-ade3-97300adeac72",
   "metadata": {},
   "outputs": [],
   "source": [
    "import face_recognition\n",
    "import cv2\n",
    "import numpy as np\n",
    "import pandas as pd"
   ]
  },
  {
   "cell_type": "code",
   "execution_count": 4,
   "id": "b43a707e-9da5-4aca-a138-22ef0efeaf16",
   "metadata": {},
   "outputs": [],
   "source": [
    "train = pd.read_csv('train.csv')\n",
    "val = pd.read_csv('val.csv')"
   ]
  },
  {
   "cell_type": "code",
   "execution_count": 5,
   "id": "3256eaf7-14ca-4fd3-b14f-ca3423651652",
   "metadata": {},
   "outputs": [
    {
     "name": "stdout",
     "output_type": "stream",
     "text": [
      "['arjelyn', 'sander', 'arnold']\n"
     ]
    }
   ],
   "source": [
    "header = train.columns.values.tolist();\n",
    "header.remove('Filename')\n",
    "print(header)"
   ]
  },
  {
   "cell_type": "code",
   "execution_count": 6,
   "id": "c27e6711-9dc2-4860-ac5d-6fd888554390",
   "metadata": {},
   "outputs": [
    {
     "name": "stdout",
     "output_type": "stream",
     "text": [
      "Filename    IMG20240609073521.jpg\n",
      "arjelyn                         0\n",
      "sander                          0\n",
      "arnold                          1\n",
      "Name: 22, dtype: object\n"
     ]
    }
   ],
   "source": [
    "\n",
    "img_set = train.iloc[22];\n",
    "print(img_set)\n",
    "# print(train.iloc[1]['Filename'], train.iloc[1]['arjelyn'])\n"
   ]
  },
  {
   "cell_type": "code",
   "execution_count": 7,
   "id": "2da4bb8f-3f25-42c3-b7e2-b90dc6d12b9c",
   "metadata": {},
   "outputs": [
    {
     "name": "stdout",
     "output_type": "stream",
     "text": [
      "[-0.10950281  0.04719747  0.04838855 -0.04154065 -0.06639025 -0.06658129\n",
      " -0.00195734 -0.14709494  0.18200918 -0.12403022  0.26686811 -0.11107457\n",
      " -0.20519806 -0.02728056 -0.03599574  0.1962873  -0.19063585 -0.09190205\n",
      " -0.084416   -0.01454068  0.09223847 -0.05416666  0.07131419  0.04386612\n",
      " -0.08570673 -0.36672676 -0.13091995 -0.08101344 -0.00430692 -0.02550315\n",
      " -0.06823755  0.02786186 -0.2024968  -0.05655794 -0.01753374  0.05602074\n",
      " -0.04024914 -0.10369209  0.19655307 -0.0371698  -0.23993073 -0.03163298\n",
      "  0.02881412  0.18957651  0.16562524  0.0341731   0.0155594  -0.16916841\n",
      "  0.07996283 -0.15480043  0.02151635  0.11627863  0.05578801  0.027777\n",
      " -0.02643476 -0.08158985 -0.01243982  0.13691406 -0.13673984 -0.05254652\n",
      "  0.10205417 -0.11983056 -0.08775271 -0.14053522  0.27584392  0.14724799\n",
      " -0.11966482 -0.12426598  0.19863978 -0.08577801 -0.00517211  0.01891042\n",
      " -0.15374443 -0.21746258 -0.22361451  0.01432052  0.40195557  0.01230497\n",
      " -0.16837752  0.03175141 -0.13113515  0.01293653  0.12324148  0.1759074\n",
      "  0.04204617  0.02215978 -0.07966102  0.02290094  0.19326377 -0.17689057\n",
      "  0.03852399  0.20863621 -0.02215149  0.02285694  0.01103572  0.01783748\n",
      " -0.07555263  0.08905089 -0.13871956  0.02933005  0.04270744 -0.0070093\n",
      " -0.0192667   0.04157055 -0.12319068  0.0531836   0.04070383 -0.01632644\n",
      "  0.09369468 -0.09424023 -0.05003601 -0.17898011  0.10842276 -0.24440111\n",
      "  0.13150394  0.14789933 -0.00733774  0.18224271  0.03140546  0.19363254\n",
      "  0.00465551 -0.00561003 -0.26243615  0.06622119  0.14646517  0.04518899\n",
      " -0.00977621 -0.02038475]\n"
     ]
    }
   ],
   "source": [
    "path = 'train/' + train.iloc[0]['Filename']\n",
    "\n",
    "arjelyn = face_recognition.load_image_file(path)\n",
    "\n",
    "arjelyn_encoding = face_recognition.face_encodings(arjelyn)[0]\n",
    "print(arjelyn_encoding)"
   ]
  },
  {
   "cell_type": "code",
   "execution_count": 8,
   "id": "5e5af957-e2f2-4338-a4e0-7676cc4b3519",
   "metadata": {},
   "outputs": [],
   "source": [
    "path = 'train/' + train.iloc[10]['Filename']\n",
    "\n",
    "sander_img = face_recognition.load_image_file(path)\n",
    "sander_img_encoding = face_recognition.face_encodings(sander_img)[0]"
   ]
  },
  {
   "cell_type": "code",
   "execution_count": 9,
   "id": "45f7dae3-c37e-4df1-8450-e6eeb7b3374f",
   "metadata": {},
   "outputs": [],
   "source": [
    "path = 'train/' + train.iloc[22]['Filename']\n",
    "\n",
    "arnold_img = face_recognition.load_image_file(path)\n",
    "arnold_img_encoding = face_recognition.face_encodings(arnold_img)[0]"
   ]
  },
  {
   "cell_type": "code",
   "execution_count": 11,
   "id": "7171f1f7-2689-4ace-b7dc-8726adfc9f8c",
   "metadata": {},
   "outputs": [],
   "source": [
    "path = 'mypic3.jpg'\n",
    "\n",
    "lloyd_img = face_recognition.load_image_file(path)\n",
    "lloyd_img_encoding = face_recognition.face_encodings(lloyd_img)[0]"
   ]
  },
  {
   "cell_type": "code",
   "execution_count": 12,
   "id": "324ad32e-b0bd-4131-a435-1a52ba479cc2",
   "metadata": {},
   "outputs": [],
   "source": [
    "known_face = [arjelyn_encoding, sander_img_encoding, arnold_img_encoding, lloyd_img_encoding]"
   ]
  },
  {
   "cell_type": "code",
   "execution_count": 14,
   "id": "e01ed012-68f6-4d2e-a3f9-2a764a7091c1",
   "metadata": {},
   "outputs": [
    {
     "name": "stdout",
     "output_type": "stream",
     "text": [
      "IMG20240608092542.jpg\n"
     ]
    }
   ],
   "source": [
    "index = 16\n",
    "path = 'train/' + train.iloc[index]['Filename']\n",
    "print(train.iloc[index]['Filename'])\n",
    "img = face_recognition.load_image_file(path)\n",
    "img_encoding = face_recognition.face_encodings(img)[0]"
   ]
  },
  {
   "cell_type": "code",
   "execution_count": 15,
   "id": "49244629-ba9c-46f2-b952-55a58a0a31e3",
   "metadata": {},
   "outputs": [
    {
     "name": "stdout",
     "output_type": "stream",
     "text": [
      "[False, True, False, False]\n"
     ]
    }
   ],
   "source": [
    "\n",
    "results = face_recognition.compare_faces(known_face, img_encoding)\n",
    "print(results)"
   ]
  },
  {
   "cell_type": "code",
   "execution_count": 16,
   "id": "f38b81dd-605d-4e87-be52-faf6cd29fcd9",
   "metadata": {},
   "outputs": [],
   "source": [
    "import json\n",
    "listData = sander_img_encoding.tolist()\n",
    "\n",
    "encoding_list = {\n",
    "    'arjelyn' : arjelyn_encoding.tolist(),\n",
    "    'sander' : sander_img_encoding.tolist(),\n",
    "    'arnold' : arnold_img_encoding.tolist(),\n",
    "    'lloyd' : lloyd_img_encoding.tolist(),\n",
    "}\n",
    "\n",
    "with open('encodings.json', 'w') as f:\n",
    "    json.dump(encoding_list, f)"
   ]
  }
 ],
 "metadata": {
  "kernelspec": {
   "display_name": "Python 3 (ipykernel)",
   "language": "python",
   "name": "python3"
  },
  "language_info": {
   "codemirror_mode": {
    "name": "ipython",
    "version": 3
   },
   "file_extension": ".py",
   "mimetype": "text/x-python",
   "name": "python",
   "nbconvert_exporter": "python",
   "pygments_lexer": "ipython3",
   "version": "3.10.0"
  }
 },
 "nbformat": 4,
 "nbformat_minor": 5
}
